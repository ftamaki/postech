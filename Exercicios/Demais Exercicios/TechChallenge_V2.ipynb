{
  "cells": [
    {
      "cell_type": "code",
      "execution_count": 1,
      "metadata": {
        "colab": {
          "base_uri": "https://localhost:8080/",
          "height": 602
        },
        "id": "CBxSEJR_ihDT",
        "outputId": "bd7a9989-f3c1-4bd5-f0a8-d8372649d701"
      },
      "outputs": [
        {
          "ename": "ModuleNotFoundError",
          "evalue": "No module named 'kagglehub'",
          "output_type": "error",
          "traceback": [
            "\u001b[31m---------------------------------------------------------------------------\u001b[39m",
            "\u001b[31mModuleNotFoundError\u001b[39m                       Traceback (most recent call last)",
            "\u001b[36mCell\u001b[39m\u001b[36m \u001b[39m\u001b[32mIn[1]\u001b[39m\u001b[32m, line 3\u001b[39m\n\u001b[32m      1\u001b[39m \u001b[38;5;28;01mimport\u001b[39;00m\u001b[38;5;250m \u001b[39m\u001b[34;01mos\u001b[39;00m\n\u001b[32m      2\u001b[39m \u001b[38;5;28;01mimport\u001b[39;00m\u001b[38;5;250m \u001b[39m\u001b[34;01mpandas\u001b[39;00m\u001b[38;5;250m \u001b[39m\u001b[38;5;28;01mas\u001b[39;00m\u001b[38;5;250m \u001b[39m\u001b[34;01mpd\u001b[39;00m\n\u001b[32m----> \u001b[39m\u001b[32m3\u001b[39m \u001b[38;5;28;01mimport\u001b[39;00m\u001b[38;5;250m \u001b[39m\u001b[34;01mkagglehub\u001b[39;00m\n\u001b[32m      5\u001b[39m \u001b[38;5;66;03m# Baixando o dataset\u001b[39;00m\n\u001b[32m      6\u001b[39m path = kagglehub.dataset_download(\u001b[33m\"\u001b[39m\u001b[33malexteboul/diabetes-health-indicators-dataset\u001b[39m\u001b[33m\"\u001b[39m)\n",
            "\u001b[31mModuleNotFoundError\u001b[39m: No module named 'kagglehub'"
          ]
        }
      ],
      "source": [
        "import os\n",
        "import pandas as pd\n",
        "import kagglehub\n",
        "\n",
        "# Baixando o dataset\n",
        "path = kagglehub.dataset_download(\"alexteboul/diabetes-health-indicators-dataset\")\n",
        "print(\"Path para os arquivos:\", path)\n",
        "\n",
        "# Listar arquivos CSV\n",
        "files = [f for f in os.listdir(path) if f.endswith('.csv')]\n",
        "print(\"Arquivos CSV encontrados:\", files)\n",
        "\n",
        "# Carregar os DataFrames em um dicionário\n",
        "dfs = {}\n",
        "for f in files:\n",
        "    full_path = os.path.join(path, f)\n",
        "    df_temp = pd.read_csv(full_path)\n",
        "\n",
        "    # Transformar a coluna alvo corretamente\n",
        "    if 'Diabetes_012' in df_temp.columns:\n",
        "        # Mapear valores 0 → 0 (sem diabetes ou só gravidez), 1 e 2 → 1 (pré-diabetes e diabetes)\n",
        "        df_temp['Diabetes_binary'] = df_temp['Diabetes_012'].map(lambda x: 0 if x == 0 else 1)\n",
        "        \n",
        "        # Dropar a coluna original\n",
        "        df_temp.drop(columns=['Diabetes_012'], inplace=True)\n",
        "\n",
        "    elif 'Diabetes_binary' in df_temp.columns:\n",
        "        # Garantir que está tudo certo\n",
        "        df_temp['Diabetes_binary'] = df_temp['Diabetes_binary'].map(lambda x: 0 if x == 0 else 1)\n",
        "\n",
        "    dfs[f] = df_temp\n",
        "\n",
        "# Verificar diferenças nas colunas\n",
        "print(\"\\nComparando colunas dos arquivos:\")\n",
        "all_columns = {name: set(df.columns) for name, df in dfs.items()}\n",
        "for name, columns in all_columns.items():\n",
        "    print(f\"- {name}: {len(columns)} colunas\\n\")\n",
        "\n",
        "# Comparar quais colunas são diferentes\n",
        "base = list(all_columns.values())[0]\n",
        "for name, columns in all_columns.items():\n",
        "    diff = base.symmetric_difference(columns)\n",
        "    if diff:\n",
        "        print(f\"⚠️ Diferenças entre base e {name}: {diff}\")\n",
        "    else:\n",
        "        print(f\"✅ {name} tem as mesmas colunas da base.\")\n",
        "\n",
        "# Identificar colunas comuns\n",
        "common_columns = set.intersection(*all_columns.values())\n",
        "\n",
        "# Juntar os DataFrames com base nas colunas comuns\n",
        "df = pd.concat([df_temp[list(common_columns)] for df_temp in dfs.values()], ignore_index=True)\n",
        "\n",
        "# Exibir resultado final\n",
        "print(\"\\n✅ Shape do DataFrame combinado:\", df.shape)\n",
        "print(df[\"Diabetes_binary\"].value_counts())\n",
        "pd.set_option('display.max_columns', None)\n",
        "df.head()\n"
      ]
    },
    {
      "cell_type": "code",
      "execution_count": null,
      "metadata": {
        "id": "o0LYb-JIcnb3"
      },
      "outputs": [],
      "source": [
        "import pandas as pd\n",
        "import numpy as np\n",
        "import seaborn as sns\n",
        "import matplotlib.pyplot as plt\n",
        "import math\n",
        "\n",
        "from sklearn.feature_selection import SelectKBest\n",
        "from sklearn.feature_selection import chi2\n",
        "from sklearn.datasets import make_classification\n",
        "from sklearn.feature_selection import SelectKBest\n",
        "from sklearn.feature_selection import f_classif\n",
        "from sklearn.model_selection import train_test_split\n",
        "\n",
        "from sklearn.metrics import confusion_matrix, classification_report\n",
        "from sklearn.metrics import mean_absolute_error , mean_absolute_percentage_error , mean_squared_error , accuracy_score\n",
        "from sklearn.ensemble import RandomForestClassifier\n",
        "from sklearn.neighbors import KNeighborsClassifier\n",
        "from sklearn.tree import DecisionTreeClassifier\n",
        "from sklearn.linear_model import LogisticRegression\n",
        "%matplotlib inline\n",
        "\n",
        "import warnings\n",
        "warnings.filterwarnings(\"ignore\")"
      ]
    },
    {
      "cell_type": "code",
      "execution_count": null,
      "metadata": {
        "colab": {
          "base_uri": "https://localhost:8080/",
          "height": 230
        },
        "id": "OVlIN3a52IMm",
        "outputId": "f599f5cb-f9d7-483d-d8c1-f2eaf7c06079"
      },
      "outputs": [],
      "source": [
        "df.head(20)"
      ]
    },
    {
      "cell_type": "code",
      "execution_count": null,
      "metadata": {
        "colab": {
          "base_uri": "https://localhost:8080/"
        },
        "id": "f_Q2OCWW_gG7",
        "outputId": "3499c54d-22dc-464d-c5ec-dce2065c1425"
      },
      "outputs": [],
      "source": [
        "rows , col =  df.shape\n",
        "print(f\"Número de Linhas : {rows} \\nNúmero de Colunas : {col}\")"
      ]
    },
    {
      "cell_type": "code",
      "execution_count": null,
      "metadata": {
        "colab": {
          "base_uri": "https://localhost:8080/"
        },
        "id": "y6Z237QlAFE2",
        "outputId": "080326e7-7c9d-4fca-f419-ba84af9aee97"
      },
      "outputs": [],
      "source": [
        "df.info()"
      ]
    },
    {
      "cell_type": "code",
      "execution_count": null,
      "metadata": {
        "colab": {
          "base_uri": "https://localhost:8080/",
          "height": 738
        },
        "id": "Ma43G_Z5Rjny",
        "outputId": "f96e294f-8be8-4995-877b-431a613d548f"
      },
      "outputs": [],
      "source": [
        "import missingno as msno\n",
        "msno.bar(df, color='skyblue')\n",
        "plt.show()\n"
      ]
    },
    {
      "cell_type": "code",
      "execution_count": null,
      "metadata": {
        "colab": {
          "base_uri": "https://localhost:8080/",
          "height": 739
        },
        "id": "qvNMpCg_EO9e",
        "outputId": "05da72fc-e19a-48b8-ce62-e8702b4d19e6"
      },
      "outputs": [],
      "source": [
        "pd.set_option('display.max_rows', None)\n",
        "df.describe().T"
      ]
    },
    {
      "cell_type": "code",
      "execution_count": null,
      "metadata": {
        "colab": {
          "base_uri": "https://localhost:8080/",
          "height": 739
        },
        "id": "geFN3jW3A08E",
        "outputId": "a87c0e46-4db4-41d4-8a7c-750b70c73615"
      },
      "outputs": [],
      "source": [
        "#checking unique values in different variables\n",
        "unique_values = {}\n",
        "for col in df.columns:\n",
        "    unique_values[col] = df[col].value_counts().shape[0]\n",
        "\n",
        "pd.DataFrame(unique_values, index=['Valores Unicos nas colunas']).transpose()"
      ]
    },
    {
      "cell_type": "code",
      "execution_count": null,
      "metadata": {
        "colab": {
          "base_uri": "https://localhost:8080/",
          "height": 273
        },
        "id": "7I6uTT0BCTYF",
        "outputId": "82ce6b14-57f5-4ee1-8881-90b1bef24776"
      },
      "outputs": [],
      "source": [
        "# Checking duplicates rows in dataset df1 to eliminate them\n",
        "\n",
        "duplicates = df[df.duplicated()]\n",
        "print(\"Duplicate Rows : \",len(duplicates))\n",
        "duplicates.head()"
      ]
    },
    {
      "cell_type": "code",
      "execution_count": null,
      "metadata": {
        "colab": {
          "base_uri": "https://localhost:8080/"
        },
        "id": "n1cXS7wPCtSt",
        "outputId": "70f397ce-78e1-476e-dff4-0a16dabe8a0d"
      },
      "outputs": [],
      "source": [
        "df_clean = df.drop_duplicates().copy()\n",
        "# Dimensões do DataFrame original\n",
        "rows_orig, col_orig = df.shape\n",
        "print(f\"Número de Linhas (original): {rows_orig} \\nNúmero de Colunas: {col_orig}\")\n",
        "\n",
        "# Dimensões após remoção de duplicatas\n",
        "rows_clean, col_clean = df_clean.shape\n",
        "print(f\"Número de Linhas (sem duplicatas): {rows_clean} \\nNúmero de Colunas: {col_clean}\")\n",
        "\n",
        "# Quantidade de linhas removidas\n",
        "print(f\"\\nTotal de duplicatas removidas: {rows_orig - rows_clean}\")"
      ]
    },
    {
      "cell_type": "markdown",
      "metadata": {
        "id": "rl5TA74_R3cu"
      },
      "source": [
        "---\n",
        "# **Visualização dos Dados**\n",
        "\n"
      ]
    },
    {
      "cell_type": "code",
      "execution_count": null,
      "metadata": {
        "colab": {
          "base_uri": "https://localhost:8080/",
          "height": 1000
        },
        "id": "CY_R10pSSaHJ",
        "outputId": "8739dc8f-49f4-4788-880e-c1929212459a"
      },
      "outputs": [],
      "source": [
        "df_clean.hist(figsize = (20,20))\n",
        "plt.show()"
      ]
    },
    {
      "cell_type": "code",
      "execution_count": null,
      "metadata": {
        "colab": {
          "base_uri": "https://localhost:8080/",
          "height": 759
        },
        "id": "MWFNgV4QDbYJ",
        "outputId": "a3c04178-e24c-4afd-f2d9-75f8ab78af57"
      },
      "outputs": [],
      "source": [
        "#import matplotlib.pyplot as plt\n",
        "#import seaborn as sns\n",
        "\n",
        "# Calcular a correlação\n",
        "correlation = df_clean.corr(numeric_only=True)\n",
        "\n",
        "# Correlacionar com o target\n",
        "cor_target = correlation['Diabetes_binary'].drop('Diabetes_binary').sort_values(ascending=False)\n",
        "\n",
        "# Exibir as variáveis mais correlacionadas\n",
        "print(\"📊 Correlação com Diabetes_binary:\")\n",
        "print(cor_target)\n",
        "\n",
        "# Visualizar com heatmap\n",
        "plt.figure(figsize=(10, 8))\n",
        "sns.heatmap(cor_target.to_frame(), annot=True, cmap='coolwarm')\n",
        "plt.title(\"Correlação com Diabetes_binary\")\n",
        "plt.show()\n"
      ]
    },
    {
      "cell_type": "code",
      "execution_count": null,
      "metadata": {
        "colab": {
          "base_uri": "https://localhost:8080/",
          "height": 795
        },
        "id": "42aK4N2wGmSH",
        "outputId": "e3c457c2-3016-4d58-938d-6aef965673f6"
      },
      "outputs": [],
      "source": [
        "corr = df_clean.corr(numeric_only=True)  # garante apenas colunas numéricas\n",
        "\n",
        "fig, ax = plt.subplots(figsize=(18, 9))\n",
        "sns.heatmap(\n",
        "    corr,\n",
        "    annot=True,\n",
        "    fmt=\".2f\",\n",
        "    cmap=\"coolwarm\",\n",
        "    center=0,\n",
        "    linewidths=0.5,\n",
        "    linecolor='gray',\n",
        "    cbar_kws={\"shrink\": 0.75},\n",
        "    ax=ax\n",
        ")\n",
        "\n",
        "ax.set_title(\"Correlação entre as Variáveis\", fontsize=16, fontweight='bold', pad=20)\n",
        "plt.tight_layout()\n",
        "plt.show()\n"
      ]
    },
    {
      "cell_type": "code",
      "execution_count": null,
      "metadata": {
        "colab": {
          "base_uri": "https://localhost:8080/",
          "height": 1000
        },
        "id": "nIpTlHakJEJg",
        "outputId": "1be8eea4-70ae-400a-b27e-4615dd98e3b7"
      },
      "outputs": [],
      "source": [
        "# Selecionar apenas colunas numéricas\n",
        "numeric_columns = df_clean.select_dtypes(include='number').columns\n",
        "\n",
        "# Criar subplots\n",
        "n_cols = 3\n",
        "n_rows = -(-len(numeric_columns) // n_cols)  # arredondamento para cima\n",
        "fig, axes = plt.subplots(n_rows, n_cols, figsize=(5 * n_cols, 5 * n_rows))\n",
        "axes = axes.flatten()  # transforma em vetor para acesso simples\n",
        "\n",
        "# Criar boxplots\n",
        "for i, column in enumerate(numeric_columns):\n",
        "    sns.boxplot(data=df_clean, x=column, ax=axes[i])\n",
        "    axes[i].set_title(f'Boxplot de {column}')\n",
        "\n",
        "# Remover eixos não usados (caso sobre espaço no grid)\n",
        "for j in range(i + 1, len(axes)):\n",
        "    fig.delaxes(axes[j])\n",
        "\n",
        "plt.tight_layout()\n",
        "plt.show()\n"
      ]
    },
    {
      "cell_type": "code",
      "execution_count": null,
      "metadata": {
        "colab": {
          "base_uri": "https://localhost:8080/"
        },
        "id": "4AtlaPUpxOit",
        "outputId": "1a4532d1-ee27-4b5f-c3c6-7dab5d8dd3ec"
      },
      "outputs": [],
      "source": [
        "df_clean['Diabetes_binary'].unique()"
      ]
    },
    {
      "cell_type": "code",
      "execution_count": null,
      "metadata": {
        "id": "W2KJ1QFWzjF5"
      },
      "outputs": [],
      "source": [
        "cols = ['GenHlth', 'HighBP', 'BMI', 'DiffWalk', 'HighChol', 'Diabetes_binary']\n",
        "sns.pairplot(data=df_clean[cols], hue='Diabetes_binary', diag_kind='kde', markers=[\"o\", \"s\"], palette=\"Set1\")\n",
        "plt.show()\n"
      ]
    },
    {
      "cell_type": "code",
      "execution_count": null,
      "metadata": {
        "id": "j5KSkJeHbNaP"
      },
      "outputs": [],
      "source": [
        "# Mapeando os valores 0 e 1 para descrições\n",
        "diabetes_map = {0: \"Não Diabético\", 1: \"Diabético\"}\n",
        "\n",
        "# Contando os valores e renomeando os índices com base no mapa\n",
        "tabela_diabetes = df_clean[\"Diabetes_binary\"].value_counts().rename(index=diabetes_map)\n",
        "\n",
        "# Exibindo a tabela\n",
        "print(tabela_diabetes)\n"
      ]
    },
    {
      "cell_type": "code",
      "execution_count": null,
      "metadata": {},
      "outputs": [],
      "source": [
        "#import matplotlib.pyplot as plt\n",
        "#import seaborn as sns\n",
        "\n",
        "# Calcular a correlação\n",
        "correlation = df_clean.corr(numeric_only=True)\n",
        "\n",
        "# Correlacionar com o target\n",
        "cor_target = correlation['Diabetes_binary'].drop('Diabetes_binary').sort_values(ascending=False)\n",
        "\n",
        "# Exibir as variáveis mais correlacionadas\n",
        "print(\"📊 Correlação com Diabetes_binary:\")\n",
        "print(cor_target)\n",
        "\n",
        "# Visualizar com heatmap\n",
        "plt.figure(figsize=(10, 8))\n",
        "sns.heatmap(cor_target.to_frame(), annot=True, cmap='coolwarm')\n",
        "plt.title(\"Correlação com Diabetes_binary\")\n",
        "plt.show()\n"
      ]
    },
    {
      "cell_type": "code",
      "execution_count": null,
      "metadata": {},
      "outputs": [],
      "source": [
        "# 1. Separar X e y ...\n",
        "target = 'Diabetes_binary'\n",
        "X_full = df_clean.drop(columns=[target])\n",
        "y = df_clean[target]\n",
        "\n",
        "# 2. Dividir em treino e teste\n",
        "X_train_full, X_test_full, y_train, y_test = train_test_split(X_full, y, test_size=0.3, random_state=42, stratify=y)\n",
        "\n",
        "# 3. Treinar modelo com TODAS as variáveis\n",
        "model_full = RandomForestClassifier(random_state=42)\n",
        "model_full.fit(X_train_full, y_train)\n",
        "y_pred_full = model_full.predict(X_test_full)\n",
        "\n",
        "print(\"\\n📊 Modelo completo (todas as features):\")\n",
        "print(classification_report(y_test, y_pred_full))\n",
        "\n",
        "# 4. Selecionar apenas as TOP 5 variáveis\n",
        "top5_features = ['GenHlth', 'HighBP', 'BMI', 'DiffWalk', 'HighChol']\n",
        "X_top5 = df_clean[top5_features]\n",
        "X_train_top5, X_test_top5, _, _ = train_test_split(X_top5, y, test_size=0.3, random_state=42, stratify=y)\n",
        "\n",
        "# 5. Treinar modelo com apenas top 5\n",
        "model_top5 = RandomForestClassifier(random_state=42)\n",
        "model_top5.fit(X_train_top5, y_train)\n",
        "y_pred_top5 = model_top5.predict(X_test_top5)\n",
        "\n",
        "print(\"\\n📊 Modelo com TOP 5 features:\")\n",
        "print(classification_report(y_test, y_pred_top5))\n"
      ]
    },
    {
      "cell_type": "code",
      "execution_count": null,
      "metadata": {},
      "outputs": [],
      "source": [
        "#import pandas as pd\n",
        "#from sklearn.model_selection import train_test_split\n",
        "#from sklearn.ensemble import RandomForestClassifier\n",
        "#from sklearn.linear_model import LogisticRegression\n",
        "#from sklearn.metrics import classification_report\n",
        "from xgboost import XGBClassifier\n",
        "\n",
        "# Definir target\n",
        "target = 'Diabetes_binary'\n",
        "\n",
        "# Definir os 10 melhores features pela correlação que você encontrou\n",
        "top_10_features = ['GenHlth', 'HighBP', 'BMI', 'DiffWalk', 'HighChol', \n",
        "                   'Age', 'HeartDiseaseorAttack', 'PhysHlth', 'Stroke', 'MentHlth']\n",
        "\n",
        "# Top 5 é subconjunto\n",
        "top_5_features = top_10_features[:5]\n",
        "\n",
        "# Separar X e y\n",
        "X_full = df.drop(columns=[target])\n",
        "y = df_clean[target]\n",
        "\n",
        "# Conjuntos de features a testar\n",
        "feature_sets = {\n",
        "    'Todas (21)': X_full.columns.tolist(),\n",
        "    'Top 10': top_10_features,\n",
        "    'Top 5': top_5_features\n",
        "}\n",
        "\n",
        "# Modelos a testar\n",
        "models = {\n",
        "    'RandomForest': RandomForestClassifier(random_state=42),\n",
        "    'LogisticRegression': LogisticRegression(max_iter=1000),\n",
        "    'XGBoost': XGBClassifier(use_label_encoder=False, eval_metric='logloss')\n",
        "}\n",
        "\n",
        "# Treinar e avaliar cada modelo em cada conjunto de features\n",
        "results = []\n",
        "\n",
        "for feat_name, feat_list in feature_sets.items():\n",
        "    X = df_clean[feat_list]\n",
        "    X_train, X_test, y_train, y_test = train_test_split(X, y, test_size=0.3, stratify=y, random_state=42)\n",
        "\n",
        "    print(f\"\\n🔷 Conjunto de features: {feat_name}\")\n",
        "    for model_name, model in models.items():\n",
        "        model.fit(X_train, y_train)\n",
        "        y_pred = model.predict(X_test)\n",
        "        print(f\"\\n📌 Modelo: {model_name} | Features: {feat_name}\")\n",
        "        print(classification_report(y_test, y_pred, digits=4))\n"
      ]
    },
    {
      "cell_type": "code",
      "execution_count": null,
      "metadata": {},
      "outputs": [],
      "source": [
        "import pandas as pd\n",
        "import matplotlib.pyplot as plt\n",
        "import seaborn as sns\n",
        "from sklearn.model_selection import train_test_split\n",
        "from sklearn.ensemble import RandomForestClassifier\n",
        "from sklearn.linear_model import LogisticRegression\n",
        "from sklearn.tree import DecisionTreeClassifier\n",
        "from sklearn.neighbors import KNeighborsClassifier\n",
        "from sklearn.svm import SVC\n",
        "from xgboost import XGBClassifier\n",
        "from sklearn.metrics import f1_score, precision_score, recall_score, roc_auc_score\n",
        "\n",
        "# Configurar seaborn\n",
        "sns.set(style='whitegrid')\n",
        "\n",
        "# Target\n",
        "target = 'Diabetes_binary'\n",
        "\n",
        "# Features\n",
        "top_10_features = ['GenHlth', 'HighBP', 'BMI', 'DiffWalk', 'HighChol', \n",
        "                   'Age', 'HeartDiseaseorAttack', 'PhysHlth', 'Stroke', 'MentHlth']\n",
        "top_5_features = top_10_features[:5]\n",
        "\n",
        "# Conjuntos de features\n",
        "feature_sets = {\n",
        "    'Todas (21)': df_clean.drop(columns=[target]).columns.tolist(),\n",
        "    'Top 10': top_10_features,\n",
        "    'Top 5': top_5_features\n",
        "}\n",
        "\n",
        "# Modelos\n",
        "models = {\n",
        "    'RandomForest': RandomForestClassifier(random_state=42),\n",
        "    'LogisticRegression': LogisticRegression(max_iter=1000),\n",
        "    'XGBoost': XGBClassifier(use_label_encoder=False, eval_metric='logloss'),\n",
        "    'KNN': KNeighborsClassifier(),\n",
        "    'DecisionTree': DecisionTreeClassifier(random_state=42),\n",
        "    'SVC': SVC(probability=True)\n",
        "}\n",
        "\n",
        "# Lista para resultados\n",
        "all_results = []\n",
        "\n",
        "# Loop pelos conjuntos de features e modelos\n",
        "for feat_name, feat_cols in feature_sets.items():\n",
        "    X = df_clean[feat_cols]\n",
        "    y = df_clean[target]\n",
        "    X_train, X_test, y_train, y_test = train_test_split(X, y, stratify=y, test_size=0.3, random_state=42)\n",
        "\n",
        "    for model_name, model in models.items():\n",
        "        model.fit(X_train, y_train)\n",
        "        y\n"
      ]
    }
  ],
  "metadata": {
    "colab": {
      "provenance": []
    },
    "kernelspec": {
      "display_name": "tf_gpu (3.9.0)",
      "language": "python",
      "name": "python3"
    },
    "language_info": {
      "codemirror_mode": {
        "name": "ipython",
        "version": 3
      },
      "file_extension": ".py",
      "mimetype": "text/x-python",
      "name": "python",
      "nbconvert_exporter": "python",
      "pygments_lexer": "ipython3",
      "version": "3.9.0"
    }
  },
  "nbformat": 4,
  "nbformat_minor": 0
}
