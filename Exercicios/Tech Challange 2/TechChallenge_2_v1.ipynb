{
 "cells": [
  {
   "cell_type": "code",
   "execution_count": 3,
   "id": "28a622e7",
   "metadata": {},
   "outputs": [
    {
     "name": "stdout",
     "output_type": "stream",
     "text": [
      "Minhas importações essenciais estão carregadas e prontas para usar!\n"
     ]
    }
   ],
   "source": [
    "# Minhas importações para manipular e analisar os dados\n",
    "import pandas as pd\n",
    "import numpy as np\n",
    "\n",
    "# As importações para Machine Learning, começando com scikit-learn\n",
    "from sklearn.model_selection import train_test_split, cross_val_score, KFold\n",
    "from sklearn.preprocessing import StandardScaler, MinMaxScaler, LabelEncoder\n",
    "from sklearn.metrics import accuracy_score, precision_score, recall_score, f1_score, roc_auc_score\n",
    "\n",
    "# Vou importar os modelos de ML que pretendo otimizar ou que usei na Fase 1\n",
    "from sklearn.linear_model import LogisticRegression\n",
    "from sklearn.tree import DecisionTreeClassifier\n",
    "from sklearn.ensemble import RandomForestClassifier, GradientBoostingClassifier\n",
    "from sklearn.svm import SVC\n",
    "\n",
    "# As importações para Algoritmos Genéticos, usando DEAP. Ah, preciso ter 'deap' instalado!\n",
    "from deap import base, creator, tools, algorithms\n",
    "import random\n",
    "\n",
    "# As importações para integrar com LLMs, usando Hugging Face Transformers. Preciso lembrar de instalar 'transformers' e 'torch' ou 'tensorflow'!\n",
    "# from transformers import pipeline, AutoTokenizer, AutoModelForCausalLM\n",
    "# import torch # ou import tensorflow as tf\n",
    "\n",
    "# Importações para visualização, sempre útil para entender os dados e resultados\n",
    "import matplotlib.pyplot as plt\n",
    "import seaborn as sns\n",
    "\n",
    "# Algumas configurações gerais para facilitar meu trabalho\n",
    "pd.set_option('display.max_columns', None)\n",
    "pd.set_option('display.width', 1000)\n",
    "np.random.seed(42) # Isso é para garantir que meus resultados com numpy sejam reprodutíveis\n",
    "random.seed(42) # E isso para a reprodutibilidade do meu algoritmo genético\n",
    "\n",
    "print(\"Minhas importações essenciais estão carregadas e prontas para usar!\")\n"
   ]
  }
 ],
 "metadata": {
  "kernelspec": {
   "display_name": "tf-gpu-210",
   "language": "python",
   "name": "python3"
  },
  "language_info": {
   "codemirror_mode": {
    "name": "ipython",
    "version": 3
   },
   "file_extension": ".py",
   "mimetype": "text/x-python",
   "name": "python",
   "nbconvert_exporter": "python",
   "pygments_lexer": "ipython3",
   "version": "3.9.23"
  }
 },
 "nbformat": 4,
 "nbformat_minor": 5
}
