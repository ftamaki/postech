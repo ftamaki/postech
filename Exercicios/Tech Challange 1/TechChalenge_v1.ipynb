{
  "cells": [
    {
      "cell_type": "markdown",
      "metadata": {
        "colab_type": "text",
        "id": "view-in-github"
      },
      "source": [
        "<a href=\"https://colab.research.google.com/github/ftamaki/postech/blob/main/TechChalenge_v1.ipynb\" target=\"_parent\"><img src=\"https://colab.research.google.com/assets/colab-badge.svg\" alt=\"Open In Colab\"/></a>"
      ]
    },
    {
      "cell_type": "code",
      "execution_count": 1,
      "metadata": {
        "colab": {
          "base_uri": "https://localhost:8080/"
        },
        "id": "jIXorI0xiOLi",
        "outputId": "838c301f-c9b4-4c5f-c0a4-e4fa72408a91"
      },
      "outputs": [
        {
          "ename": "ModuleNotFoundError",
          "evalue": "No module named 'kagglehub'",
          "output_type": "error",
          "traceback": [
            "\u001b[31m---------------------------------------------------------------------------\u001b[39m",
            "\u001b[31mModuleNotFoundError\u001b[39m                       Traceback (most recent call last)",
            "\u001b[36mCell\u001b[39m\u001b[36m \u001b[39m\u001b[32mIn[1]\u001b[39m\u001b[32m, line 3\u001b[39m\n\u001b[32m      1\u001b[39m \u001b[38;5;28;01mimport\u001b[39;00m\u001b[38;5;250m \u001b[39m\u001b[34;01mpandas\u001b[39;00m\u001b[38;5;250m \u001b[39m\u001b[38;5;28;01mas\u001b[39;00m\u001b[38;5;250m \u001b[39m\u001b[34;01mpd\u001b[39;00m\n\u001b[32m      2\u001b[39m \u001b[38;5;28;01mimport\u001b[39;00m\u001b[38;5;250m \u001b[39m\u001b[34;01mos\u001b[39;00m\n\u001b[32m----> \u001b[39m\u001b[32m3\u001b[39m \u001b[38;5;28;01mimport\u001b[39;00m\u001b[38;5;250m \u001b[39m\u001b[34;01mkagglehub\u001b[39;00m\n\u001b[32m      5\u001b[39m \u001b[38;5;66;03m# Baixar o dataset\u001b[39;00m\n\u001b[32m      6\u001b[39m path = kagglehub.dataset_download(\u001b[33m\"\u001b[39m\u001b[33mkhwaishsaxena/lung-cancer-dataset\u001b[39m\u001b[33m\"\u001b[39m)\n",
            "\u001b[31mModuleNotFoundError\u001b[39m: No module named 'kagglehub'"
          ]
        }
      ],
      "source": [
        "import pandas as pd\n",
        "import os\n",
        "import kagglehub\n",
        "\n",
        "# Baixar o dataset\n",
        "path = kagglehub.dataset_download(\"khwaishsaxena/lung-cancer-dataset\")\n",
        "print(\"Path to dataset files:\", path)\n",
        "\n",
        "# Verificar os arquivos\n",
        "files = os.listdir(path)\n",
        "print(\"Arquivos encontrados:\", files)\n",
        "\n",
        "# Carregar o dataset\n",
        "file_path = os.path.join(path, 'Lung Cancer.csv')\n",
        "df = pd.read_csv(file_path)\n",
        "df.head()\n",
        "df_pdata = df.copy()      # será usado para o pré-processamento"
      ]
    },
    {
      "cell_type": "code",
      "execution_count": null,
      "metadata": {
        "id": "i-mF3fihYxyv"
      },
      "outputs": [],
      "source": [
        "df_pdata.columns = df_pdata.columns.str.replace(' ', '', regex=True).str.upper()"
      ]
    },
    {
      "cell_type": "code",
      "execution_count": null,
      "metadata": {
        "colab": {
          "base_uri": "https://localhost:8080/",
          "height": 226
        },
        "id": "xV4ZBUK_Y9l5",
        "outputId": "ea371ec7-4fc9-41e9-8f8d-bd85555853df"
      },
      "outputs": [],
      "source": [
        "df_pdata.describe(include='all')  # Traz também colunas categóricas\n",
        "df_pdata.head()"
      ]
    },
    {
      "cell_type": "code",
      "execution_count": null,
      "metadata": {
        "colab": {
          "base_uri": "https://localhost:8080/",
          "height": 617
        },
        "id": "HuFcV6nDZ3vI",
        "outputId": "3635b1af-fb92-4b9d-9698-f35e6fd47450"
      },
      "outputs": [],
      "source": [
        "# Verifica valores ausentes\n",
        "df_pdata.isnull().sum()"
      ]
    },
    {
      "cell_type": "code",
      "execution_count": null,
      "metadata": {
        "colab": {
          "base_uri": "https://localhost:8080/",
          "height": 226
        },
        "id": "axeTh7ufd2fI",
        "outputId": "5427f664-e85c-4d87-da17-2cf49dd0160e"
      },
      "outputs": [],
      "source": [
        "stage_mapping = {\n",
        "    'Male': 1,\n",
        "    'Female': 2\n",
        "}\n",
        "\n",
        "df_pdata['GENDER'] = df_pdata['GENDER'].map(stage_mapping)\n",
        "df_pdata.head()"
      ]
    },
    {
      "cell_type": "code",
      "execution_count": null,
      "metadata": {
        "colab": {
          "base_uri": "https://localhost:8080/",
          "height": 226
        },
        "id": "wEKTZ7vAfTPA",
        "outputId": "a4662e82-5877-4958-967c-f393c796ab60"
      },
      "outputs": [],
      "source": [
        "stage_mapping = {\n",
        "    'Stage I': 1,\n",
        "    'Stage II': 2,\n",
        "    'Stage III': 3\n",
        "}\n",
        "\n",
        "df_pdata['CANCER_STAGE'] = df_pdata['CANCER_STAGE'].map(stage_mapping)\n",
        "df_pdata.head()"
      ]
    },
    {
      "cell_type": "code",
      "execution_count": null,
      "metadata": {
        "colab": {
          "base_uri": "https://localhost:8080/"
        },
        "id": "u0Zxsd5eftGO",
        "outputId": "a9811d91-d7ed-4563-fa96-fc3c293dc5a3"
      },
      "outputs": [],
      "source": [
        "df_pdata['TREATMENT_TYPE'].unique()"
      ]
    },
    {
      "cell_type": "code",
      "execution_count": null,
      "metadata": {
        "colab": {
          "base_uri": "https://localhost:8080/",
          "height": 226
        },
        "id": "ttGDFXHygDA7",
        "outputId": "e4bff559-0875-474d-f2c1-d71b45c07255"
      },
      "outputs": [],
      "source": [
        "df_pdata = pd.get_dummies(df_pdata, columns=['TREATMENT_TYPE'], prefix='TREATMENT')\n",
        "df_pdata.head()"
      ]
    },
    {
      "cell_type": "code",
      "execution_count": null,
      "metadata": {
        "id": "ymbHbQ9aBrdQ"
      },
      "outputs": [],
      "source": [
        "# Normatizando Family History\n",
        "df_pdata['FAMILY_HISTORY'].unique()\n",
        "df_pdata['FAMILY_HISTORY'] = df_pdata['FAMILY_HISTORY'].map({'No': 0, 'Yes': 1})"
      ]
    },
    {
      "cell_type": "code",
      "execution_count": null,
      "metadata": {
        "colab": {
          "base_uri": "https://localhost:8080/",
          "height": 226
        },
        "id": "KL3wYjWrCXVl",
        "outputId": "c0c22200-f1ab-4032-e468-0f08063dfcc1"
      },
      "outputs": [],
      "source": [
        "df_pdata.head()"
      ]
    },
    {
      "cell_type": "code",
      "execution_count": null,
      "metadata": {
        "colab": {
          "base_uri": "https://localhost:8080/"
        },
        "id": "JK1gI1WRDfLt",
        "outputId": "d6c3b33a-e56f-4980-823b-518886a0dbb7"
      },
      "outputs": [],
      "source": [
        "# Selecionar colunas não numéricas (object, category ou string)\n",
        "non_numeric_cols = df_pdata.select_dtypes(exclude=['number']).columns\n",
        "\n",
        "# Mostrar os valores únicos de cada coluna não numérica\n",
        "for col in non_numeric_cols:\n",
        "    print(f\"Coluna: {col}\")\n",
        "    print(df_pdata[col].unique())\n",
        "    print(\"-\" * 50)\n"
      ]
    },
    {
      "cell_type": "code",
      "execution_count": null,
      "metadata": {
        "colab": {
          "base_uri": "https://localhost:8080/",
          "height": 273
        },
        "id": "His11lmuh_WF",
        "outputId": "e21d7cda-c1cf-4a63-e942-208cb14ec34e"
      },
      "outputs": [],
      "source": [
        "df_pdata = pd.get_dummies(df_pdata, columns=['SMOKING_STATUS'], prefix='SMOKING')\n",
        "df_pdata.head()"
      ]
    },
    {
      "cell_type": "code",
      "execution_count": null,
      "metadata": {
        "colab": {
          "base_uri": "https://localhost:8080/",
          "height": 273
        },
        "id": "nxiFUh0oiq9G",
        "outputId": "03181c21-53f5-447c-8f98-a6f005d91ecd"
      },
      "outputs": [],
      "source": [
        "df_pdata['DIAGNOSIS_DATE'] = pd.to_datetime(df_pdata['DIAGNOSIS_DATE'])\n",
        "df_pdata['END_TREATMENT_DATE'] = pd.to_datetime(df_pdata['END_TREATMENT_DATE'])\n",
        "df_pdata.head()"
      ]
    },
    {
      "cell_type": "code",
      "execution_count": null,
      "metadata": {
        "colab": {
          "base_uri": "https://localhost:8080/",
          "height": 273
        },
        "id": "96F5SesTix_S",
        "outputId": "6f6cf00c-62a9-45f0-e14c-45349a188b5d"
      },
      "outputs": [],
      "source": [
        "df_pdata['TREATMENT_DURATION'] = (df_pdata['END_TREATMENT_DATE'] - df_pdata['DIAGNOSIS_DATE']).dt.days\n",
        "df_pdata.head()"
      ]
    },
    {
      "cell_type": "code",
      "execution_count": null,
      "metadata": {
        "colab": {
          "base_uri": "https://localhost:8080/",
          "height": 541
        },
        "id": "v8ByYlfRi9mG",
        "outputId": "4afe3778-0b11-4b04-a4d8-1db685b44d3a"
      },
      "outputs": [],
      "source": [
        "# Verificar a distribuição de sobreviventes\n",
        "survived_counts = df_pdata['SURVIVED'].value_counts()\n",
        "\n",
        "# Plotar a distribuição de sobreviventes\n",
        "import seaborn as sns\n",
        "import matplotlib.pyplot as plt\n",
        "\n",
        "sns.countplot(x='SURVIVED', data=df_pdata)\n",
        "plt.title(\"Distribuição de Sobreviventes\")\n",
        "plt.xlabel(\"Sobreviveu (1) / Não Sobreviveu (0)\")\n",
        "plt.ylabel(\"Contagem\")\n",
        "plt.show()\n",
        "\n",
        "# Mostrar a contagem\n",
        "print(survived_counts)\n"
      ]
    },
    {
      "cell_type": "code",
      "execution_count": null,
      "metadata": {
        "colab": {
          "base_uri": "https://localhost:8080/"
        },
        "id": "4dmuQ6BcseiW",
        "outputId": "6de0da5c-58be-411b-b948-b2e9a2f40f7a"
      },
      "outputs": [],
      "source": [
        "# Filtrar apenas colunas numéricas\n",
        "numeric_df = df_pdata.select_dtypes(include='number')\n",
        "\n",
        "# Calcular a correlação apenas entre colunas numéricas\n",
        "correlation = numeric_df.corr()\n",
        "\n",
        "# Mostrar correlações com 'SURVIVED'\n",
        "print(correlation['SURVIVED'].sort_values(ascending=False))\n"
      ]
    },
    {
      "cell_type": "code",
      "execution_count": null,
      "metadata": {
        "colab": {
          "base_uri": "https://localhost:8080/",
          "height": 847
        },
        "id": "JfQ3AYd6tN_T",
        "outputId": "434e2979-5312-4646-9119-5adb06c5005f"
      },
      "outputs": [],
      "source": [
        "# Visualizar a correlação com um heatmap\n",
        "plt.figure(figsize=(12, 8))\n",
        "sns.heatmap(correlation, annot=True, cmap='coolwarm', fmt='.2f', linewidths=0.5)\n",
        "plt.title(\"Mapa de Correlação\")\n",
        "plt.show()\n"
      ]
    },
    {
      "cell_type": "code",
      "execution_count": null,
      "metadata": {
        "colab": {
          "base_uri": "https://localhost:8080/",
          "height": 466
        },
        "id": "hMo6RJCGt4oM",
        "outputId": "0ca85289-e26f-459a-f085-8b50a51ebd93"
      },
      "outputs": [],
      "source": [
        "#usando tabela original\n",
        "sns.countplot(x='treatment_type', hue='survived', data=df)"
      ]
    },
    {
      "cell_type": "code",
      "execution_count": null,
      "metadata": {
        "colab": {
          "base_uri": "https://localhost:8080/",
          "height": 489
        },
        "id": "hCGimxjyu1Hs",
        "outputId": "21b0b76c-3f65-413a-be18-dfa32847b3eb"
      },
      "outputs": [],
      "source": [
        "sns.boxplot(x='SURVIVED', y='AGE', data=df_pdata)\n",
        "plt.title(\"Distribuição da Idade por Sobrevivência\")\n"
      ]
    },
    {
      "cell_type": "code",
      "execution_count": null,
      "metadata": {
        "colab": {
          "base_uri": "https://localhost:8080/",
          "height": 489
        },
        "id": "uoZEDWRJwBrL",
        "outputId": "04fb7fe9-e4d9-49c3-dec7-f121a2e2f492"
      },
      "outputs": [],
      "source": [
        "sns.boxplot(x='SURVIVED', y='TREATMENT_DURATION', data=df_pdata)\n",
        "plt.title(\"Duração do Tratamento por Sobrevivência\")\n"
      ]
    },
    {
      "cell_type": "code",
      "execution_count": null,
      "metadata": {
        "colab": {
          "base_uri": "https://localhost:8080/",
          "height": 681
        },
        "id": "EhbsgcIXwIme",
        "outputId": "8ef647c3-de37-43a7-a9fb-f62f4fb65e9a"
      },
      "outputs": [],
      "source": [
        "sns.countplot(x='treatment_type', hue='survived', data=df)\n",
        "plt.title(\"Tipo de Tratamento por Sobrevivência\")\n",
        "df.head()"
      ]
    },
    {
      "cell_type": "code",
      "execution_count": null,
      "metadata": {
        "colab": {
          "base_uri": "https://localhost:8080/",
          "height": 489
        },
        "id": "A03M34HnyXs_",
        "outputId": "9bf33cda-0942-4310-fe7e-c65747fc2b3c"
      },
      "outputs": [],
      "source": [
        "sns.countplot(x='smoking_status', hue='survived', data=df)\n",
        "plt.title(\"Status de Fumo por Sobrevivência\")\n"
      ]
    },
    {
      "cell_type": "code",
      "execution_count": null,
      "metadata": {
        "colab": {
          "base_uri": "https://localhost:8080/",
          "height": 489
        },
        "id": "GKTW-wxj0PjU",
        "outputId": "6a6346d1-888f-4aed-c46b-b9d31eefb408"
      },
      "outputs": [],
      "source": [
        "sns.countplot(x='FAMILY_HISTORY', hue='SURVIVED', data=df_pdata)\n",
        "plt.title(\"Histórico Familiar por Sobrevivência\")\n"
      ]
    },
    {
      "cell_type": "code",
      "execution_count": null,
      "metadata": {
        "colab": {
          "base_uri": "https://localhost:8080/",
          "height": 1000
        },
        "id": "wbnS5UMQ0eLq",
        "outputId": "db3476d8-145b-4361-d458-c660b786a57a"
      },
      "outputs": [],
      "source": [
        "plt.figure(figsize=(14, 6))\n",
        "sns.countplot(x='COUNTRY', hue='SURVIVED', data=df_pdata)\n",
        "plt.title(\"Sobrevivência por País\")\n",
        "plt.xticks(rotation=45)\n"
      ]
    },
    {
      "cell_type": "code",
      "execution_count": null,
      "metadata": {
        "colab": {
          "base_uri": "https://localhost:8080/",
          "height": 864
        },
        "id": "mhdN4A3x0p9J",
        "outputId": "32a37054-deb9-4223-93c8-38685426f3ca"
      },
      "outputs": [],
      "source": [
        "numeric_df = df_pdata.select_dtypes(include='number')\n",
        "plt.figure(figsize=(12, 8))\n",
        "sns.heatmap(numeric_df.corr(), annot=True, fmt='.2f', cmap='coolwarm')\n",
        "plt.title(\"Mapa de Correlação\")\n"
      ]
    },
    {
      "cell_type": "code",
      "execution_count": null,
      "metadata": {
        "colab": {
          "base_uri": "https://localhost:8080/",
          "height": 489
        },
        "id": "ni7YYPfd1EUA",
        "outputId": "deea4661-6c91-40a3-a60d-80d11726b31d"
      },
      "outputs": [],
      "source": [
        "sns.kdeplot(data=df_pdata, x='TREATMENT_DURATION', hue='SURVIVED', fill=True)\n",
        "plt.title(\"Distribuição da Duração do Tratamento por Sobrevivência\")\n"
      ]
    },
    {
      "cell_type": "code",
      "execution_count": null,
      "metadata": {
        "colab": {
          "base_uri": "https://localhost:8080/",
          "height": 524
        },
        "id": "K3183Cly1pja",
        "outputId": "8576f26f-0155-4624-f3d6-4aecf4f48784"
      },
      "outputs": [],
      "source": [
        "sns.catplot(data=df, x='treatment_type', hue='smoking_status', col='survived', kind='count', height=5)\n"
      ]
    },
    {
      "cell_type": "code",
      "execution_count": null,
      "metadata": {
        "colab": {
          "base_uri": "https://localhost:8080/",
          "height": 467
        },
        "id": "uLtbRblR2tHb",
        "outputId": "fed16c8e-ee93-4fcf-df33-2f3755fef1e6"
      },
      "outputs": [],
      "source": [
        "sns.boxplot(data=df, x='smoking_status', y='treatment_type', hue='survived')\n"
      ]
    }
  ],
  "metadata": {
    "colab": {
      "authorship_tag": "ABX9TyM0MbSDvd4yY5s6UH2gud0f",
      "include_colab_link": true,
      "provenance": []
    },
    "kernelspec": {
      "display_name": "tf_gpu (3.9.0)",
      "language": "python",
      "name": "python3"
    },
    "language_info": {
      "name": "python",
      "version": "3.9.0"
    }
  },
  "nbformat": 4,
  "nbformat_minor": 0
}
